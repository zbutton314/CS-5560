{
  "nbformat": 4,
  "nbformat_minor": 0,
  "metadata": {
    "colab": {
      "name": "ICP_8.ipynb",
      "provenance": [],
      "authorship_tag": "ABX9TyOegMkjDDc7IkNOSO9aE3We",
      "include_colab_link": true
    },
    "kernelspec": {
      "name": "python3",
      "display_name": "Python 3"
    },
    "language_info": {
      "name": "python"
    },
    "widgets": {
      "application/vnd.jupyter.widget-state+json": {
        "33b4d41d150343269ccd4695f056163f": {
          "model_module": "@jupyter-widgets/controls",
          "model_name": "HBoxModel",
          "model_module_version": "1.5.0",
          "state": {
            "_dom_classes": [],
            "_model_module": "@jupyter-widgets/controls",
            "_model_module_version": "1.5.0",
            "_model_name": "HBoxModel",
            "_view_count": null,
            "_view_module": "@jupyter-widgets/controls",
            "_view_module_version": "1.5.0",
            "_view_name": "HBoxView",
            "box_style": "",
            "children": [
              "IPY_MODEL_c62204e6a2b84a3b8dd29a1869f51abc",
              "IPY_MODEL_ab5d09e79f964912ab7ca00b8231f768",
              "IPY_MODEL_bfac490bf7154dbdbff55055ac9c947b"
            ],
            "layout": "IPY_MODEL_85874f2e84f24b8db8b4c8ed610d8d5f"
          }
        },
        "c62204e6a2b84a3b8dd29a1869f51abc": {
          "model_module": "@jupyter-widgets/controls",
          "model_name": "HTMLModel",
          "model_module_version": "1.5.0",
          "state": {
            "_dom_classes": [],
            "_model_module": "@jupyter-widgets/controls",
            "_model_module_version": "1.5.0",
            "_model_name": "HTMLModel",
            "_view_count": null,
            "_view_module": "@jupyter-widgets/controls",
            "_view_module_version": "1.5.0",
            "_view_name": "HTMLView",
            "description": "",
            "description_tooltip": null,
            "layout": "IPY_MODEL_e1b42a4955934f4cbeead1d97256ba08",
            "placeholder": "​",
            "style": "IPY_MODEL_43076b73d6f548419e0d2f5fbcd28fb1",
            "value": "Downloading https://huggingface.co/stanfordnlp/CoreNLP/resolve/main/stanford-corenlp-latest.zip: 100%"
          }
        },
        "ab5d09e79f964912ab7ca00b8231f768": {
          "model_module": "@jupyter-widgets/controls",
          "model_name": "FloatProgressModel",
          "model_module_version": "1.5.0",
          "state": {
            "_dom_classes": [],
            "_model_module": "@jupyter-widgets/controls",
            "_model_module_version": "1.5.0",
            "_model_name": "FloatProgressModel",
            "_view_count": null,
            "_view_module": "@jupyter-widgets/controls",
            "_view_module_version": "1.5.0",
            "_view_name": "ProgressView",
            "bar_style": "success",
            "description": "",
            "description_tooltip": null,
            "layout": "IPY_MODEL_34350578fa954c06b7303eecc7f198d4",
            "max": 505207915,
            "min": 0,
            "orientation": "horizontal",
            "style": "IPY_MODEL_530474a91d814c35a0c50cc168927ce7",
            "value": 505207915
          }
        },
        "bfac490bf7154dbdbff55055ac9c947b": {
          "model_module": "@jupyter-widgets/controls",
          "model_name": "HTMLModel",
          "model_module_version": "1.5.0",
          "state": {
            "_dom_classes": [],
            "_model_module": "@jupyter-widgets/controls",
            "_model_module_version": "1.5.0",
            "_model_name": "HTMLModel",
            "_view_count": null,
            "_view_module": "@jupyter-widgets/controls",
            "_view_module_version": "1.5.0",
            "_view_name": "HTMLView",
            "description": "",
            "description_tooltip": null,
            "layout": "IPY_MODEL_3640ec5b0db44b53b3329bf4c37f5113",
            "placeholder": "​",
            "style": "IPY_MODEL_5078784cef224b73bd5657ef7312bda3",
            "value": " 505M/505M [00:03&lt;00:00, 149MB/s]"
          }
        },
        "85874f2e84f24b8db8b4c8ed610d8d5f": {
          "model_module": "@jupyter-widgets/base",
          "model_name": "LayoutModel",
          "model_module_version": "1.2.0",
          "state": {
            "_model_module": "@jupyter-widgets/base",
            "_model_module_version": "1.2.0",
            "_model_name": "LayoutModel",
            "_view_count": null,
            "_view_module": "@jupyter-widgets/base",
            "_view_module_version": "1.2.0",
            "_view_name": "LayoutView",
            "align_content": null,
            "align_items": null,
            "align_self": null,
            "border": null,
            "bottom": null,
            "display": null,
            "flex": null,
            "flex_flow": null,
            "grid_area": null,
            "grid_auto_columns": null,
            "grid_auto_flow": null,
            "grid_auto_rows": null,
            "grid_column": null,
            "grid_gap": null,
            "grid_row": null,
            "grid_template_areas": null,
            "grid_template_columns": null,
            "grid_template_rows": null,
            "height": null,
            "justify_content": null,
            "justify_items": null,
            "left": null,
            "margin": null,
            "max_height": null,
            "max_width": null,
            "min_height": null,
            "min_width": null,
            "object_fit": null,
            "object_position": null,
            "order": null,
            "overflow": null,
            "overflow_x": null,
            "overflow_y": null,
            "padding": null,
            "right": null,
            "top": null,
            "visibility": null,
            "width": null
          }
        },
        "e1b42a4955934f4cbeead1d97256ba08": {
          "model_module": "@jupyter-widgets/base",
          "model_name": "LayoutModel",
          "model_module_version": "1.2.0",
          "state": {
            "_model_module": "@jupyter-widgets/base",
            "_model_module_version": "1.2.0",
            "_model_name": "LayoutModel",
            "_view_count": null,
            "_view_module": "@jupyter-widgets/base",
            "_view_module_version": "1.2.0",
            "_view_name": "LayoutView",
            "align_content": null,
            "align_items": null,
            "align_self": null,
            "border": null,
            "bottom": null,
            "display": null,
            "flex": null,
            "flex_flow": null,
            "grid_area": null,
            "grid_auto_columns": null,
            "grid_auto_flow": null,
            "grid_auto_rows": null,
            "grid_column": null,
            "grid_gap": null,
            "grid_row": null,
            "grid_template_areas": null,
            "grid_template_columns": null,
            "grid_template_rows": null,
            "height": null,
            "justify_content": null,
            "justify_items": null,
            "left": null,
            "margin": null,
            "max_height": null,
            "max_width": null,
            "min_height": null,
            "min_width": null,
            "object_fit": null,
            "object_position": null,
            "order": null,
            "overflow": null,
            "overflow_x": null,
            "overflow_y": null,
            "padding": null,
            "right": null,
            "top": null,
            "visibility": null,
            "width": null
          }
        },
        "43076b73d6f548419e0d2f5fbcd28fb1": {
          "model_module": "@jupyter-widgets/controls",
          "model_name": "DescriptionStyleModel",
          "model_module_version": "1.5.0",
          "state": {
            "_model_module": "@jupyter-widgets/controls",
            "_model_module_version": "1.5.0",
            "_model_name": "DescriptionStyleModel",
            "_view_count": null,
            "_view_module": "@jupyter-widgets/base",
            "_view_module_version": "1.2.0",
            "_view_name": "StyleView",
            "description_width": ""
          }
        },
        "34350578fa954c06b7303eecc7f198d4": {
          "model_module": "@jupyter-widgets/base",
          "model_name": "LayoutModel",
          "model_module_version": "1.2.0",
          "state": {
            "_model_module": "@jupyter-widgets/base",
            "_model_module_version": "1.2.0",
            "_model_name": "LayoutModel",
            "_view_count": null,
            "_view_module": "@jupyter-widgets/base",
            "_view_module_version": "1.2.0",
            "_view_name": "LayoutView",
            "align_content": null,
            "align_items": null,
            "align_self": null,
            "border": null,
            "bottom": null,
            "display": null,
            "flex": null,
            "flex_flow": null,
            "grid_area": null,
            "grid_auto_columns": null,
            "grid_auto_flow": null,
            "grid_auto_rows": null,
            "grid_column": null,
            "grid_gap": null,
            "grid_row": null,
            "grid_template_areas": null,
            "grid_template_columns": null,
            "grid_template_rows": null,
            "height": null,
            "justify_content": null,
            "justify_items": null,
            "left": null,
            "margin": null,
            "max_height": null,
            "max_width": null,
            "min_height": null,
            "min_width": null,
            "object_fit": null,
            "object_position": null,
            "order": null,
            "overflow": null,
            "overflow_x": null,
            "overflow_y": null,
            "padding": null,
            "right": null,
            "top": null,
            "visibility": null,
            "width": null
          }
        },
        "530474a91d814c35a0c50cc168927ce7": {
          "model_module": "@jupyter-widgets/controls",
          "model_name": "ProgressStyleModel",
          "model_module_version": "1.5.0",
          "state": {
            "_model_module": "@jupyter-widgets/controls",
            "_model_module_version": "1.5.0",
            "_model_name": "ProgressStyleModel",
            "_view_count": null,
            "_view_module": "@jupyter-widgets/base",
            "_view_module_version": "1.2.0",
            "_view_name": "StyleView",
            "bar_color": null,
            "description_width": ""
          }
        },
        "3640ec5b0db44b53b3329bf4c37f5113": {
          "model_module": "@jupyter-widgets/base",
          "model_name": "LayoutModel",
          "model_module_version": "1.2.0",
          "state": {
            "_model_module": "@jupyter-widgets/base",
            "_model_module_version": "1.2.0",
            "_model_name": "LayoutModel",
            "_view_count": null,
            "_view_module": "@jupyter-widgets/base",
            "_view_module_version": "1.2.0",
            "_view_name": "LayoutView",
            "align_content": null,
            "align_items": null,
            "align_self": null,
            "border": null,
            "bottom": null,
            "display": null,
            "flex": null,
            "flex_flow": null,
            "grid_area": null,
            "grid_auto_columns": null,
            "grid_auto_flow": null,
            "grid_auto_rows": null,
            "grid_column": null,
            "grid_gap": null,
            "grid_row": null,
            "grid_template_areas": null,
            "grid_template_columns": null,
            "grid_template_rows": null,
            "height": null,
            "justify_content": null,
            "justify_items": null,
            "left": null,
            "margin": null,
            "max_height": null,
            "max_width": null,
            "min_height": null,
            "min_width": null,
            "object_fit": null,
            "object_position": null,
            "order": null,
            "overflow": null,
            "overflow_x": null,
            "overflow_y": null,
            "padding": null,
            "right": null,
            "top": null,
            "visibility": null,
            "width": null
          }
        },
        "5078784cef224b73bd5657ef7312bda3": {
          "model_module": "@jupyter-widgets/controls",
          "model_name": "DescriptionStyleModel",
          "model_module_version": "1.5.0",
          "state": {
            "_model_module": "@jupyter-widgets/controls",
            "_model_module_version": "1.5.0",
            "_model_name": "DescriptionStyleModel",
            "_view_count": null,
            "_view_module": "@jupyter-widgets/base",
            "_view_module_version": "1.2.0",
            "_view_name": "StyleView",
            "description_width": ""
          }
        }
      }
    }
  },
  "cells": [
    {
      "cell_type": "markdown",
      "metadata": {
        "id": "view-in-github",
        "colab_type": "text"
      },
      "source": [
        "<a href=\"https://colab.research.google.com/github/zbutton314/CS-5560/blob/main/Lab8/Code/ICP_8.ipynb\" target=\"_parent\"><img src=\"https://colab.research.google.com/assets/colab-badge.svg\" alt=\"Open In Colab\"/></a>"
      ]
    },
    {
      "cell_type": "markdown",
      "source": [
        "# Setup"
      ],
      "metadata": {
        "id": "AQ2qzuPYgB8a"
      }
    },
    {
      "cell_type": "code",
      "execution_count": 1,
      "metadata": {
        "colab": {
          "base_uri": "https://localhost:8080/",
          "height": 569,
          "referenced_widgets": [
            "33b4d41d150343269ccd4695f056163f",
            "c62204e6a2b84a3b8dd29a1869f51abc",
            "ab5d09e79f964912ab7ca00b8231f768",
            "bfac490bf7154dbdbff55055ac9c947b",
            "85874f2e84f24b8db8b4c8ed610d8d5f",
            "e1b42a4955934f4cbeead1d97256ba08",
            "43076b73d6f548419e0d2f5fbcd28fb1",
            "34350578fa954c06b7303eecc7f198d4",
            "530474a91d814c35a0c50cc168927ce7",
            "3640ec5b0db44b53b3329bf4c37f5113",
            "5078784cef224b73bd5657ef7312bda3"
          ]
        },
        "id": "okV-MNq1da6f",
        "outputId": "96371e8b-ff9c-435a-b2c7-5c8e72fd96c5"
      },
      "outputs": [
        {
          "output_type": "stream",
          "name": "stdout",
          "text": [
            "Collecting stanza\n",
            "  Downloading stanza-1.3.0-py3-none-any.whl (432 kB)\n",
            "\u001b[?25l\r\u001b[K     |▊                               | 10 kB 14.8 MB/s eta 0:00:01\r\u001b[K     |█▌                              | 20 kB 11.1 MB/s eta 0:00:01\r\u001b[K     |██▎                             | 30 kB 8.3 MB/s eta 0:00:01\r\u001b[K     |███                             | 40 kB 7.3 MB/s eta 0:00:01\r\u001b[K     |███▉                            | 51 kB 4.2 MB/s eta 0:00:01\r\u001b[K     |████▌                           | 61 kB 4.9 MB/s eta 0:00:01\r\u001b[K     |█████▎                          | 71 kB 5.1 MB/s eta 0:00:01\r\u001b[K     |██████                          | 81 kB 5.1 MB/s eta 0:00:01\r\u001b[K     |██████▉                         | 92 kB 5.6 MB/s eta 0:00:01\r\u001b[K     |███████▋                        | 102 kB 5.1 MB/s eta 0:00:01\r\u001b[K     |████████▍                       | 112 kB 5.1 MB/s eta 0:00:01\r\u001b[K     |█████████                       | 122 kB 5.1 MB/s eta 0:00:01\r\u001b[K     |█████████▉                      | 133 kB 5.1 MB/s eta 0:00:01\r\u001b[K     |██████████▋                     | 143 kB 5.1 MB/s eta 0:00:01\r\u001b[K     |███████████▍                    | 153 kB 5.1 MB/s eta 0:00:01\r\u001b[K     |████████████▏                   | 163 kB 5.1 MB/s eta 0:00:01\r\u001b[K     |█████████████                   | 174 kB 5.1 MB/s eta 0:00:01\r\u001b[K     |█████████████▋                  | 184 kB 5.1 MB/s eta 0:00:01\r\u001b[K     |██████████████▍                 | 194 kB 5.1 MB/s eta 0:00:01\r\u001b[K     |███████████████▏                | 204 kB 5.1 MB/s eta 0:00:01\r\u001b[K     |████████████████                | 215 kB 5.1 MB/s eta 0:00:01\r\u001b[K     |████████████████▊               | 225 kB 5.1 MB/s eta 0:00:01\r\u001b[K     |█████████████████▍              | 235 kB 5.1 MB/s eta 0:00:01\r\u001b[K     |██████████████████▏             | 245 kB 5.1 MB/s eta 0:00:01\r\u001b[K     |███████████████████             | 256 kB 5.1 MB/s eta 0:00:01\r\u001b[K     |███████████████████▊            | 266 kB 5.1 MB/s eta 0:00:01\r\u001b[K     |████████████████████▌           | 276 kB 5.1 MB/s eta 0:00:01\r\u001b[K     |█████████████████████▎          | 286 kB 5.1 MB/s eta 0:00:01\r\u001b[K     |██████████████████████          | 296 kB 5.1 MB/s eta 0:00:01\r\u001b[K     |██████████████████████▊         | 307 kB 5.1 MB/s eta 0:00:01\r\u001b[K     |███████████████████████▌        | 317 kB 5.1 MB/s eta 0:00:01\r\u001b[K     |████████████████████████▎       | 327 kB 5.1 MB/s eta 0:00:01\r\u001b[K     |█████████████████████████       | 337 kB 5.1 MB/s eta 0:00:01\r\u001b[K     |█████████████████████████▉      | 348 kB 5.1 MB/s eta 0:00:01\r\u001b[K     |██████████████████████████▌     | 358 kB 5.1 MB/s eta 0:00:01\r\u001b[K     |███████████████████████████▎    | 368 kB 5.1 MB/s eta 0:00:01\r\u001b[K     |████████████████████████████    | 378 kB 5.1 MB/s eta 0:00:01\r\u001b[K     |████████████████████████████▉   | 389 kB 5.1 MB/s eta 0:00:01\r\u001b[K     |█████████████████████████████▋  | 399 kB 5.1 MB/s eta 0:00:01\r\u001b[K     |██████████████████████████████▍ | 409 kB 5.1 MB/s eta 0:00:01\r\u001b[K     |███████████████████████████████ | 419 kB 5.1 MB/s eta 0:00:01\r\u001b[K     |███████████████████████████████▉| 430 kB 5.1 MB/s eta 0:00:01\r\u001b[K     |████████████████████████████████| 432 kB 5.1 MB/s \n",
            "\u001b[?25hRequirement already satisfied: torch>=1.3.0 in /usr/local/lib/python3.7/dist-packages (from stanza) (1.10.0+cu111)\n",
            "Requirement already satisfied: tqdm in /usr/local/lib/python3.7/dist-packages (from stanza) (4.63.0)\n",
            "Requirement already satisfied: protobuf in /usr/local/lib/python3.7/dist-packages (from stanza) (3.17.3)\n",
            "Requirement already satisfied: numpy in /usr/local/lib/python3.7/dist-packages (from stanza) (1.21.5)\n",
            "Requirement already satisfied: requests in /usr/local/lib/python3.7/dist-packages (from stanza) (2.23.0)\n",
            "Requirement already satisfied: six in /usr/local/lib/python3.7/dist-packages (from stanza) (1.15.0)\n",
            "Collecting emoji\n",
            "  Downloading emoji-1.7.0.tar.gz (175 kB)\n",
            "\u001b[K     |████████████████████████████████| 175 kB 13.9 MB/s \n",
            "\u001b[?25hRequirement already satisfied: typing-extensions in /usr/local/lib/python3.7/dist-packages (from torch>=1.3.0->stanza) (3.10.0.2)\n",
            "Requirement already satisfied: urllib3!=1.25.0,!=1.25.1,<1.26,>=1.21.1 in /usr/local/lib/python3.7/dist-packages (from requests->stanza) (1.24.3)\n",
            "Requirement already satisfied: idna<3,>=2.5 in /usr/local/lib/python3.7/dist-packages (from requests->stanza) (2.10)\n",
            "Requirement already satisfied: certifi>=2017.4.17 in /usr/local/lib/python3.7/dist-packages (from requests->stanza) (2021.10.8)\n",
            "Requirement already satisfied: chardet<4,>=3.0.2 in /usr/local/lib/python3.7/dist-packages (from requests->stanza) (3.0.4)\n",
            "Building wheels for collected packages: emoji\n",
            "  Building wheel for emoji (setup.py) ... \u001b[?25l\u001b[?25hdone\n",
            "  Created wheel for emoji: filename=emoji-1.7.0-py3-none-any.whl size=171046 sha256=3513648aae11b6e9211b332340d449a7611e51158ffae78a2e0039ecc7be1421\n",
            "  Stored in directory: /root/.cache/pip/wheels/8a/4e/b6/57b01db010d17ef6ea9b40300af725ef3e210cb1acfb7ac8b6\n",
            "Successfully built emoji\n",
            "Installing collected packages: emoji, stanza\n",
            "Successfully installed emoji-1.7.0 stanza-1.3.0\n"
          ]
        },
        {
          "output_type": "stream",
          "name": "stderr",
          "text": [
            "2022-03-22 02:42:59 INFO: Installing CoreNLP package into ./corenlp...\n"
          ]
        },
        {
          "output_type": "display_data",
          "data": {
            "text/plain": [
              "Downloading https://huggingface.co/stanfordnlp/CoreNLP/resolve/main/stanford-corenlp-latest.zip:   0%|        …"
            ],
            "application/vnd.jupyter.widget-view+json": {
              "version_major": 2,
              "version_minor": 0,
              "model_id": "33b4d41d150343269ccd4695f056163f"
            }
          },
          "metadata": {}
        },
        {
          "output_type": "stream",
          "name": "stderr",
          "text": [
            "2022-03-22 02:43:05 WARNING: For customized installation location, please set the `CORENLP_HOME` environment variable to the location of the installation. In Unix, this is done with `export CORENLP_HOME=./corenlp`.\n",
            "2022-03-22 02:43:05 INFO: Writing properties to tmp file: corenlp_server-2a89c3874ca84520.props\n",
            "2022-03-22 02:43:05 INFO: Starting server with command: java -Xmx5G -cp ./corenlp/* edu.stanford.nlp.pipeline.StanfordCoreNLPServer -port 9001 -timeout 150000000 -threads 5 -maxCharLength 100000 -quiet True -serverProperties corenlp_server-2a89c3874ca84520.props -annotators openie -preload -outputFormat serialized\n"
          ]
        }
      ],
      "source": [
        "!pip install stanza\n",
        "\n",
        "import stanza\n",
        "import os\n",
        "from stanza.server import CoreNLPClient\n",
        "import time\n",
        "import json\n",
        "\n",
        "\n",
        "corenlp_dir = './corenlp'\n",
        "stanza.install_corenlp(dir=corenlp_dir)\n",
        "os.environ[\"CORENLP_HOME\"] = corenlp_dir\n",
        "\n",
        "client = CoreNLPClient(timeout=150000000, be_quiet=True, annotators=['openie'], \n",
        "endpoint='http://localhost:9001')\n",
        "client.start()\n",
        "time.sleep(10)"
      ]
    },
    {
      "cell_type": "markdown",
      "source": [
        "# Import Text and Generate Triples"
      ],
      "metadata": {
        "id": "zS5o3CP5gW_X"
      }
    },
    {
      "cell_type": "code",
      "source": [
        "def generate_triples(text):\n",
        "  document = client.annotate(text, output_format='json')\n",
        "  triples = []\n",
        "  for sentence in document['sentences']:\n",
        "      for triple in sentence['openie']:\n",
        "          triples.append({\n",
        "            'subject': triple['subject'],\n",
        "            'predicate': triple['relation'],\n",
        "              'object': triple['object']\n",
        "          })\n",
        "\n",
        "  return triples\n"
      ],
      "metadata": {
        "id": "SExe2ujJgUAu"
      },
      "execution_count": 7,
      "outputs": []
    },
    {
      "cell_type": "code",
      "source": [
        "text_1 = \"\"\"NASA's Space Launch System rocket and Orion spacecraft rolled out to Launch Complex 39B at the Kennedy Space Center \n",
        "  in Florida for the very first time on Thursday, March 17. At about 5:45 p.m. EDT on Thursday, the crawler-transporter began the \n",
        "  approximately 4-mile journey from the Vehicle Assembly Building. At 4:15 a.m EDT Friday, it arrived at the launch pad, where it \n",
        "  will undergo testing before launch in several weeks.\"\"\"\n",
        "triples_1 = generate_triples(text_1)"
      ],
      "metadata": {
        "id": "qx18UvidgzMN"
      },
      "execution_count": 9,
      "outputs": []
    },
    {
      "cell_type": "code",
      "source": [
        "triples_1"
      ],
      "metadata": {
        "colab": {
          "base_uri": "https://localhost:8080/"
        },
        "id": "9QGPIjpEgzIy",
        "outputId": "dae52dbb-5f6f-4a75-8eb5-948d73c9fd4a"
      },
      "execution_count": 10,
      "outputs": [
        {
          "output_type": "execute_result",
          "data": {
            "text/plain": [
              "[{'object': 'Florida',\n",
              "  'predicate': 'is in',\n",
              "  'subject': 'Kennedy Space Center'},\n",
              " {'object': '4 mile journey from Vehicle Assembly Building',\n",
              "  'predicate': 'began',\n",
              "  'subject': 'crawler transporter'},\n",
              " {'object': 'approximately 4 mile journey from Vehicle Assembly Building',\n",
              "  'predicate': 'began',\n",
              "  'subject': 'crawler transporter'},\n",
              " {'object': '4 mile journey',\n",
              "  'predicate': 'began',\n",
              "  'subject': 'crawler transporter'},\n",
              " {'object': 'approximately 4 mile journey',\n",
              "  'predicate': 'began',\n",
              "  'subject': 'crawler transporter'},\n",
              " {'object': 'EDT Friday', 'predicate': 'arrived at_time', 'subject': 'it'},\n",
              " {'object': 'several weeks',\n",
              "  'predicate': 'will undergo testing in',\n",
              "  'subject': 'it'},\n",
              " {'object': 'launch',\n",
              "  'predicate': 'will undergo testing before',\n",
              "  'subject': 'it'},\n",
              " {'object': 'testing', 'predicate': 'will undergo', 'subject': 'it'},\n",
              " {'object': 'weeks', 'predicate': 'will undergo testing in', 'subject': 'it'},\n",
              " {'object': 'a.m EDT Friday', 'predicate': 'arrived at_time', 'subject': 'it'}]"
            ]
          },
          "metadata": {},
          "execution_count": 10
        }
      ]
    },
    {
      "cell_type": "code",
      "source": [
        "text_2 = \"\"\"The average rate on 30-year mortgages climbed to 4.4 percent this week from 4.14 percent the previous week, the \n",
        "  highest level since roughly the same time in 2019, according to Bankrate’s national survey of large lenders. The step-up \n",
        "  comes as the Federal Reserve moved to raise rates, its first increase since 2018. That decision impacts interest rates on \n",
        "  some mortgage products, namely adjustable-rate mortgages and home equity loans. It has fewer ramifications for fixed mortgage \n",
        "  rates, which more closely follow 10-year Treasury yields.\"\"\"\n",
        "triples_2 = generate_triples(text_2)"
      ],
      "metadata": {
        "id": "5l_9WiLjgzBW"
      },
      "execution_count": 11,
      "outputs": []
    },
    {
      "cell_type": "code",
      "source": [
        "triples_2"
      ],
      "metadata": {
        "colab": {
          "base_uri": "https://localhost:8080/"
        },
        "id": "60z2cFB5iUyo",
        "outputId": "5ffcb957-d61f-420a-a449-164d466820ae"
      },
      "execution_count": 12,
      "outputs": [
        {
          "output_type": "execute_result",
          "data": {
            "text/plain": [
              "[{'object': 'national survey of large lenders',\n",
              "  'predicate': 'according',\n",
              "  'subject': 'Bankrate'},\n",
              " {'object': '2019', 'predicate': 'is in', 'subject': 'same time'},\n",
              " {'object': 'Federal Reserve moved its increase since 2018',\n",
              "  'predicate': 'comes',\n",
              "  'subject': 'step up'},\n",
              " {'object': 'as Federal Reserve moved its increase',\n",
              "  'predicate': 'comes',\n",
              "  'subject': 'step up'},\n",
              " {'object': 'rates', 'predicate': 'raise', 'subject': 'Federal Reserve'},\n",
              " {'object': 'its first increase',\n",
              "  'predicate': 'moved',\n",
              "  'subject': 'Federal Reserve'},\n",
              " {'object': 'Federal Reserve moved its first increase',\n",
              "  'predicate': 'comes',\n",
              "  'subject': 'step up'},\n",
              " {'object': 'Federal Reserve moved its increase',\n",
              "  'predicate': 'comes',\n",
              "  'subject': 'step up'},\n",
              " {'object': 'as Federal Reserve moved its increase since 2018',\n",
              "  'predicate': 'comes',\n",
              "  'subject': 'step up'},\n",
              " {'object': 'as Federal Reserve moved its first increase since 2018',\n",
              "  'predicate': 'comes',\n",
              "  'subject': 'step up'},\n",
              " {'object': 'Federal Reserve moved its first increase since 2018',\n",
              "  'predicate': 'comes',\n",
              "  'subject': 'step up'},\n",
              " {'object': 'its increase',\n",
              "  'predicate': 'moved',\n",
              "  'subject': 'Federal Reserve'},\n",
              " {'object': 'its increase since 2018',\n",
              "  'predicate': 'moved',\n",
              "  'subject': 'Federal Reserve'},\n",
              " {'object': 'as Federal Reserve moved its first increase',\n",
              "  'predicate': 'comes',\n",
              "  'subject': 'step up'},\n",
              " {'object': 'its first increase since 2018',\n",
              "  'predicate': 'moved',\n",
              "  'subject': 'Federal Reserve'},\n",
              " {'object': 'fewer ramifications for fixed mortgage rates',\n",
              "  'predicate': 'has',\n",
              "  'subject': 'It'},\n",
              " {'object': 'ramifications for mortgage rates',\n",
              "  'predicate': 'has',\n",
              "  'subject': 'It'},\n",
              " {'object': 'fewer ramifications for mortgage rates',\n",
              "  'predicate': 'has',\n",
              "  'subject': 'It'},\n",
              " {'object': 'fewer ramifications', 'predicate': 'has', 'subject': 'It'},\n",
              " {'object': 'ramifications for fixed mortgage rates',\n",
              "  'predicate': 'has',\n",
              "  'subject': 'It'},\n",
              " {'object': 'ramifications', 'predicate': 'has', 'subject': 'It'}]"
            ]
          },
          "metadata": {},
          "execution_count": 12
        }
      ]
    },
    {
      "cell_type": "code",
      "source": [
        "text_3 = \"\"\"Germany is all set to receive a €17 billion (~$18.63 billion) investment from Intel as part of the first phase \n",
        "  of the semiconductor giant’s European expansion plans. Intel first announced these plans under IDM 2.0 last year in its \n",
        "  quest to reclaim the top spot in the semiconductor space. This investment from the American chipmaker is earmarked for \n",
        "  two shiny new semiconductor fabrication units in Magdeburg.\"\"\"\n",
        "triples_3 = generate_triples(text_3)"
      ],
      "metadata": {
        "id": "ojQvlIDaiUwn"
      },
      "execution_count": 15,
      "outputs": []
    },
    {
      "cell_type": "code",
      "source": [
        "triples_3"
      ],
      "metadata": {
        "colab": {
          "base_uri": "https://localhost:8080/"
        },
        "id": "94wibGlMiUtu",
        "outputId": "0535d774-fdcd-4f95-9eb4-561151187b66"
      },
      "execution_count": 16,
      "outputs": [
        {
          "output_type": "execute_result",
          "data": {
            "text/plain": [
              "[{'object': 'set', 'predicate': 'is', 'subject': 'Germany'},\n",
              " {'object': '€ 17 billion $ 18.63 billion investment',\n",
              "  'predicate': 'receive',\n",
              "  'subject': 'Germany'},\n",
              " {'object': '€ 17 billion $ 18.63 billion investment from Intel',\n",
              "  'predicate': 'receive',\n",
              "  'subject': 'Germany'},\n",
              " {'object': 'European expansion plans',\n",
              "  'predicate': 'of',\n",
              "  'subject': 'semiconductor giant'},\n",
              " {'object': 'all set', 'predicate': 'is', 'subject': 'Germany'},\n",
              " {'object': 'last year',\n",
              "  'predicate': 'announced plans at_time',\n",
              "  'subject': 'Intel'},\n",
              " {'object': 'year',\n",
              "  'predicate': 'announced plans at_time',\n",
              "  'subject': 'Intel'},\n",
              " {'object': 'year',\n",
              "  'predicate': 'first announced plans at_time',\n",
              "  'subject': 'Intel'},\n",
              " {'object': 'semiconductor space',\n",
              "  'predicate': 'is in',\n",
              "  'subject': 'top spot'},\n",
              " {'object': 'last year',\n",
              "  'predicate': 'first announced plans at_time',\n",
              "  'subject': 'Intel'},\n",
              " {'object': 'two shiny new semiconductor fabrication units in Magdeburg',\n",
              "  'predicate': 'is earmarked for',\n",
              "  'subject': 'investment'},\n",
              " {'object': 'two semiconductor fabrication units in Magdeburg',\n",
              "  'predicate': 'is earmarked for',\n",
              "  'subject': 'investment'},\n",
              " {'object': 'two new semiconductor fabrication units in Magdeburg',\n",
              "  'predicate': 'is earmarked for',\n",
              "  'subject': 'investment'},\n",
              " {'object': 'two semiconductor fabrication units',\n",
              "  'predicate': 'is earmarked for',\n",
              "  'subject': 'investment'},\n",
              " {'object': 'two shiny semiconductor fabrication units in Magdeburg',\n",
              "  'predicate': 'is earmarked for',\n",
              "  'subject': 'investment'},\n",
              " {'object': 'two new semiconductor fabrication units',\n",
              "  'predicate': 'is earmarked for',\n",
              "  'subject': 'investment'},\n",
              " {'object': 'two shiny new semiconductor fabrication units',\n",
              "  'predicate': 'is earmarked for',\n",
              "  'subject': 'investment'},\n",
              " {'object': 'Magdeburg',\n",
              "  'predicate': 'is in',\n",
              "  'subject': 'two shiny new semiconductor fabrication units'},\n",
              " {'object': 'two shiny semiconductor fabrication units',\n",
              "  'predicate': 'is earmarked for',\n",
              "  'subject': 'investment'},\n",
              " {'object': 'earmarked', 'predicate': 'is', 'subject': 'investment'}]"
            ]
          },
          "metadata": {},
          "execution_count": 16
        }
      ]
    },
    {
      "cell_type": "code",
      "source": [
        ""
      ],
      "metadata": {
        "id": "qAj-txwGjNC6"
      },
      "execution_count": null,
      "outputs": []
    }
  ]
}