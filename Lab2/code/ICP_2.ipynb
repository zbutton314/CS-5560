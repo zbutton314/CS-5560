{
  "nbformat": 4,
  "nbformat_minor": 0,
  "metadata": {
    "colab": {
      "name": "ICP_2.ipynb",
      "provenance": [],
      "authorship_tag": "ABX9TyP2nFA7rR7KgusSWTxhK8r+",
      "include_colab_link": true
    },
    "kernelspec": {
      "name": "python3",
      "display_name": "Python 3"
    },
    "language_info": {
      "name": "python"
    }
  },
  "cells": [
    {
      "cell_type": "markdown",
      "metadata": {
        "id": "view-in-github",
        "colab_type": "text"
      },
      "source": [
        "<a href=\"https://colab.research.google.com/github/zbutton314/CS-5560/blob/main/Lab2/code/ICP_2.ipynb\" target=\"_parent\"><img src=\"https://colab.research.google.com/assets/colab-badge.svg\" alt=\"Open In Colab\"/></a>"
      ]
    },
    {
      "cell_type": "code",
      "source": [
        "!pip install allennlp\n",
        "# !pip install spacy==2.2.0\n",
        "# !pip install neuralcoref\n",
        "!pip install --upgrade google-cloud-storage"
      ],
      "metadata": {
        "id": "WE49TKyPksH4"
      },
      "execution_count": null,
      "outputs": []
    },
    {
      "cell_type": "code",
      "execution_count": 7,
      "metadata": {
        "colab": {
          "base_uri": "https://localhost:8080/"
        },
        "id": "db_grj6SkRmA",
        "outputId": "7fbb7ff8-131f-4e5f-87f1-71b3dd3e2db9"
      },
      "outputs": [
        {
          "output_type": "stream",
          "name": "stdout",
          "text": [
            "[nltk_data] Downloading package punkt to /root/nltk_data...\n",
            "[nltk_data]   Package punkt is already up-to-date!\n",
            "[nltk_data] Downloading package averaged_perceptron_tagger to\n",
            "[nltk_data]     /root/nltk_data...\n",
            "[nltk_data]   Package averaged_perceptron_tagger is already up-to-\n",
            "[nltk_data]       date!\n",
            "[nltk_data] Downloading package maxent_ne_chunker to\n",
            "[nltk_data]     /root/nltk_data...\n",
            "[nltk_data]   Package maxent_ne_chunker is already up-to-date!\n",
            "[nltk_data] Downloading package words to /root/nltk_data...\n",
            "[nltk_data]   Package words is already up-to-date!\n",
            "[nltk_data] Downloading package wordnet to /root/nltk_data...\n",
            "[nltk_data]   Package wordnet is already up-to-date!\n"
          ]
        }
      ],
      "source": [
        "# Package imports\n",
        "import nltk\n",
        "nltk.download('punkt')\n",
        "nltk.download('averaged_perceptron_tagger')\n",
        "nltk.download('maxent_ne_chunker')\n",
        "nltk.download('words')\n",
        "nltk.download('wordnet')\n",
        "\n",
        "from nltk import pos_tag, ne_chunk\n",
        "from nltk.tokenize import sent_tokenize\n",
        "from nltk.tokenize import word_tokenize\n",
        "from nltk.probability import FreqDist\n",
        "from nltk.stem import WordNetLemmatizer\n",
        "from nltk.parse import RecursiveDescentParser\n",
        "\n",
        "# import spacy\n",
        "# import neuralcoref\n",
        "# nlp = spacy.load('en_core_web_sm')\n",
        "# neuralcoref.add_to_pipe(nlp)"
      ]
    },
    {
      "cell_type": "code",
      "source": [
        "text = \"Xi Jinping is a Chinese politician who has served as General Secretary of the Chinese Communist Party (CCP) and Chairman of the Central Military Commission (CMC) since 2012, and President of the People's Republic of China (PRC) since 2013. He has been the paramount leader of China, the most prominent political leader in the country, since 2012. The son of Chinese Communist veteran Xi Zhongxun, he was exiled to rural Yanchuan County as a teenager following his father's purge during the Cultural Revolutionandlived in a cave in the village of Liangjiahe, where he joined the CCP and worked as the party secretary.\""
      ],
      "metadata": {
        "id": "cmR0--O2kgRF"
      },
      "execution_count": 2,
      "outputs": []
    },
    {
      "cell_type": "code",
      "source": [
        "# POS Tagging\n",
        "words = word_tokenize(text)\n",
        "pos = pos_tag(words)\n",
        "\n",
        "print(pos)"
      ],
      "metadata": {
        "colab": {
          "base_uri": "https://localhost:8080/"
        },
        "id": "TER1WfPNknGE",
        "outputId": "83579df0-e0f1-454d-863f-fa89e5f14ad0"
      },
      "execution_count": 3,
      "outputs": [
        {
          "output_type": "stream",
          "name": "stdout",
          "text": [
            "[('Xi', 'NN'), ('Jinping', 'NNP'), ('is', 'VBZ'), ('a', 'DT'), ('Chinese', 'JJ'), ('politician', 'NN'), ('who', 'WP'), ('has', 'VBZ'), ('served', 'VBN'), ('as', 'IN'), ('General', 'NNP'), ('Secretary', 'NNP'), ('of', 'IN'), ('the', 'DT'), ('Chinese', 'NNP'), ('Communist', 'NNP'), ('Party', 'NNP'), ('(', '('), ('CCP', 'NNP'), (')', ')'), ('and', 'CC'), ('Chairman', 'NNP'), ('of', 'IN'), ('the', 'DT'), ('Central', 'NNP'), ('Military', 'NNP'), ('Commission', 'NNP'), ('(', '('), ('CMC', 'NNP'), (')', ')'), ('since', 'IN'), ('2012', 'CD'), (',', ','), ('and', 'CC'), ('President', 'NNP'), ('of', 'IN'), ('the', 'DT'), ('People', 'NNP'), (\"'s\", 'POS'), ('Republic', 'NNP'), ('of', 'IN'), ('China', 'NNP'), ('(', '('), ('PRC', 'NNP'), (')', ')'), ('since', 'IN'), ('2013', 'CD'), ('.', '.'), ('He', 'PRP'), ('has', 'VBZ'), ('been', 'VBN'), ('the', 'DT'), ('paramount', 'JJ'), ('leader', 'NN'), ('of', 'IN'), ('China', 'NNP'), (',', ','), ('the', 'DT'), ('most', 'RBS'), ('prominent', 'JJ'), ('political', 'JJ'), ('leader', 'NN'), ('in', 'IN'), ('the', 'DT'), ('country', 'NN'), (',', ','), ('since', 'IN'), ('2012', 'CD'), ('.', '.'), ('The', 'DT'), ('son', 'NN'), ('of', 'IN'), ('Chinese', 'JJ'), ('Communist', 'NNP'), ('veteran', 'NN'), ('Xi', 'NNP'), ('Zhongxun', 'NNP'), (',', ','), ('he', 'PRP'), ('was', 'VBD'), ('exiled', 'VBN'), ('to', 'TO'), ('rural', 'JJ'), ('Yanchuan', 'NNP'), ('County', 'NNP'), ('as', 'IN'), ('a', 'DT'), ('teenager', 'NN'), ('following', 'VBG'), ('his', 'PRP$'), ('father', 'NN'), (\"'s\", 'POS'), ('purge', 'NN'), ('during', 'IN'), ('the', 'DT'), ('Cultural', 'NNP'), ('Revolutionandlived', 'NNP'), ('in', 'IN'), ('a', 'DT'), ('cave', 'NN'), ('in', 'IN'), ('the', 'DT'), ('village', 'NN'), ('of', 'IN'), ('Liangjiahe', 'NNP'), (',', ','), ('where', 'WRB'), ('he', 'PRP'), ('joined', 'VBD'), ('the', 'DT'), ('CCP', 'NNP'), ('and', 'CC'), ('worked', 'VBD'), ('as', 'IN'), ('the', 'DT'), ('party', 'NN'), ('secretary', 'NN'), ('.', '.')]\n"
          ]
        }
      ]
    },
    {
      "cell_type": "code",
      "source": [
        "# Named Entity Recognition\n",
        "ner = ne_chunk(pos)\n",
        "\n",
        "print(ner)"
      ],
      "metadata": {
        "colab": {
          "base_uri": "https://localhost:8080/"
        },
        "id": "Qda2yqSkkpcA",
        "outputId": "508645bf-aa10-4436-de71-f5e5b85e29b4"
      },
      "execution_count": 4,
      "outputs": [
        {
          "output_type": "stream",
          "name": "stdout",
          "text": [
            "(S\n",
            "  Xi/NN\n",
            "  Jinping/NNP\n",
            "  is/VBZ\n",
            "  a/DT\n",
            "  (GPE Chinese/JJ)\n",
            "  politician/NN\n",
            "  who/WP\n",
            "  has/VBZ\n",
            "  served/VBN\n",
            "  as/IN\n",
            "  (ORGANIZATION General/NNP)\n",
            "  Secretary/NNP\n",
            "  of/IN\n",
            "  the/DT\n",
            "  (ORGANIZATION Chinese/NNP)\n",
            "  (ORGANIZATION Communist/NNP Party/NNP)\n",
            "  (/(\n",
            "  (ORGANIZATION CCP/NNP)\n",
            "  )/)\n",
            "  and/CC\n",
            "  Chairman/NNP\n",
            "  of/IN\n",
            "  the/DT\n",
            "  (ORGANIZATION Central/NNP)\n",
            "  Military/NNP\n",
            "  Commission/NNP\n",
            "  (/(\n",
            "  (ORGANIZATION CMC/NNP)\n",
            "  )/)\n",
            "  since/IN\n",
            "  2012/CD\n",
            "  ,/,\n",
            "  and/CC\n",
            "  President/NNP\n",
            "  of/IN\n",
            "  the/DT\n",
            "  (ORGANIZATION People/NNP)\n",
            "  's/POS\n",
            "  (ORGANIZATION Republic/NNP)\n",
            "  of/IN\n",
            "  (GPE China/NNP)\n",
            "  (/(\n",
            "  (ORGANIZATION PRC/NNP)\n",
            "  )/)\n",
            "  since/IN\n",
            "  2013/CD\n",
            "  ./.\n",
            "  He/PRP\n",
            "  has/VBZ\n",
            "  been/VBN\n",
            "  the/DT\n",
            "  paramount/JJ\n",
            "  leader/NN\n",
            "  of/IN\n",
            "  (GPE China/NNP)\n",
            "  ,/,\n",
            "  the/DT\n",
            "  most/RBS\n",
            "  prominent/JJ\n",
            "  political/JJ\n",
            "  leader/NN\n",
            "  in/IN\n",
            "  the/DT\n",
            "  country/NN\n",
            "  ,/,\n",
            "  since/IN\n",
            "  2012/CD\n",
            "  ./.\n",
            "  The/DT\n",
            "  son/NN\n",
            "  of/IN\n",
            "  (GPE Chinese/JJ)\n",
            "  (ORGANIZATION Communist/NNP)\n",
            "  veteran/NN\n",
            "  Xi/NNP\n",
            "  Zhongxun/NNP\n",
            "  ,/,\n",
            "  he/PRP\n",
            "  was/VBD\n",
            "  exiled/VBN\n",
            "  to/TO\n",
            "  rural/JJ\n",
            "  (ORGANIZATION Yanchuan/NNP County/NNP)\n",
            "  as/IN\n",
            "  a/DT\n",
            "  teenager/NN\n",
            "  following/VBG\n",
            "  his/PRP$\n",
            "  father/NN\n",
            "  's/POS\n",
            "  purge/NN\n",
            "  during/IN\n",
            "  the/DT\n",
            "  Cultural/NNP\n",
            "  Revolutionandlived/NNP\n",
            "  in/IN\n",
            "  a/DT\n",
            "  cave/NN\n",
            "  in/IN\n",
            "  the/DT\n",
            "  village/NN\n",
            "  of/IN\n",
            "  (GPE Liangjiahe/NNP)\n",
            "  ,/,\n",
            "  where/WRB\n",
            "  he/PRP\n",
            "  joined/VBD\n",
            "  the/DT\n",
            "  (ORGANIZATION CCP/NNP)\n",
            "  and/CC\n",
            "  worked/VBD\n",
            "  as/IN\n",
            "  the/DT\n",
            "  party/NN\n",
            "  secretary/NN\n",
            "  ./.)\n"
          ]
        }
      ]
    },
    {
      "cell_type": "code",
      "source": [
        "# Co-Reference Resolution\n",
        "# doc = nlp(text)\n",
        "# doc_crr = doc._.coref_resolved\n",
        "\n",
        "# print(doc_crr)"
      ],
      "metadata": {
        "id": "ybc0f2U_kr6T"
      },
      "execution_count": null,
      "outputs": []
    },
    {
      "cell_type": "code",
      "source": [
        "# Co-Reference Resolution\n",
        "from allennlp.predictors.predictor import Predictor\n",
        "\n",
        "model_url = 'https://storage.googleapis.com/allennlp-public-models/coref-spanbert-large-2020.02.27.tar.gz'\n",
        "predictor = Predictor.from_path(model_url)\\\n",
        "prediction = predictor.predict(document=text)\n",
        "coref_resolved_text = predictor.coref_resolved(text)\n",
        "\n",
        "print(coref_resolved_text)"
      ],
      "metadata": {
        "colab": {
          "base_uri": "https://localhost:8080/",
          "height": 531
        },
        "id": "I_6ST89VksE0",
        "outputId": "212488f5-c2ff-4358-9802-1cb800e1a8ad"
      },
      "execution_count": 5,
      "outputs": [
        {
          "output_type": "stream",
          "name": "stderr",
          "text": [
            "2022-02-01 05:24:25,352 - INFO - cached_path - https://storage.googleapis.com/allennlp-public-models/coref-spanbert-large-2020.02.27.tar.gz not found in cache, downloading to /root/.allennlp/cache/0f6b052811b20b13280e609a96efe71ebc636b9c823a5c906ba24459e6e68af9.c1dab61d84cc7c3f7d6751c260040607cb7023a002778ba8f9b9d196b6539174\n",
            "downloading: 100%|##########| 1.25G/1.25G [00:40<00:00, 33.5MiB/s]\n",
            "2022-02-01 05:25:05,746 - INFO - allennlp.models.archival - loading archive file https://storage.googleapis.com/allennlp-public-models/coref-spanbert-large-2020.02.27.tar.gz from cache at /root/.allennlp/cache/0f6b052811b20b13280e609a96efe71ebc636b9c823a5c906ba24459e6e68af9.c1dab61d84cc7c3f7d6751c260040607cb7023a002778ba8f9b9d196b6539174\n",
            "2022-02-01 05:25:05,748 - INFO - allennlp.models.archival - extracting archive file /root/.allennlp/cache/0f6b052811b20b13280e609a96efe71ebc636b9c823a5c906ba24459e6e68af9.c1dab61d84cc7c3f7d6751c260040607cb7023a002778ba8f9b9d196b6539174 to temp dir /tmp/tmpromo7w7r\n",
            "2022-02-01 05:25:23,080 - INFO - allennlp.common.params - dataset_reader.type = coref\n",
            "2022-02-01 05:25:23,081 - INFO - allennlp.models.archival - removing temporary unarchived model dir at /tmp/tmpromo7w7r\n"
          ]
        },
        {
          "output_type": "error",
          "ename": "ConfigurationError",
          "evalue": "ignored",
          "traceback": [
            "\u001b[0;31m---------------------------------------------------------------------------\u001b[0m",
            "\u001b[0;31mConfigurationError\u001b[0m                        Traceback (most recent call last)",
            "\u001b[0;32m<ipython-input-5-ee5498dd5b45>\u001b[0m in \u001b[0;36m<module>\u001b[0;34m()\u001b[0m\n\u001b[1;32m      2\u001b[0m \u001b[0;34m\u001b[0m\u001b[0m\n\u001b[1;32m      3\u001b[0m \u001b[0mmodel_url\u001b[0m \u001b[0;34m=\u001b[0m \u001b[0;34m'https://storage.googleapis.com/allennlp-public-models/coref-spanbert-large-2020.02.27.tar.gz'\u001b[0m\u001b[0;34m\u001b[0m\u001b[0;34m\u001b[0m\u001b[0m\n\u001b[0;32m----> 4\u001b[0;31m \u001b[0mpredictor\u001b[0m \u001b[0;34m=\u001b[0m \u001b[0mPredictor\u001b[0m\u001b[0;34m.\u001b[0m\u001b[0mfrom_path\u001b[0m\u001b[0;34m(\u001b[0m\u001b[0mmodel_url\u001b[0m\u001b[0;34m)\u001b[0m  \u001b[0;31m# load the model\u001b[0m\u001b[0;34m\u001b[0m\u001b[0;34m\u001b[0m\u001b[0m\n\u001b[0m\u001b[1;32m      5\u001b[0m \u001b[0;34m\u001b[0m\u001b[0m\n\u001b[1;32m      6\u001b[0m \u001b[0mprediction\u001b[0m \u001b[0;34m=\u001b[0m \u001b[0mpredictor\u001b[0m\u001b[0;34m.\u001b[0m\u001b[0mpredict\u001b[0m\u001b[0;34m(\u001b[0m\u001b[0mdocument\u001b[0m\u001b[0;34m=\u001b[0m\u001b[0mtext\u001b[0m\u001b[0;34m)\u001b[0m  \u001b[0;31m# get the prediction\u001b[0m\u001b[0;34m\u001b[0m\u001b[0;34m\u001b[0m\u001b[0m\n",
            "\u001b[0;32m/usr/local/lib/python3.7/dist-packages/allennlp/predictors/predictor.py\u001b[0m in \u001b[0;36mfrom_path\u001b[0;34m(cls, archive_path, predictor_name, cuda_device, dataset_reader_to_load, frozen, import_plugins, overrides, **kwargs)\u001b[0m\n\u001b[1;32m    364\u001b[0m             \u001b[0mplugins\u001b[0m\u001b[0;34m.\u001b[0m\u001b[0mimport_plugins\u001b[0m\u001b[0;34m(\u001b[0m\u001b[0;34m)\u001b[0m\u001b[0;34m\u001b[0m\u001b[0;34m\u001b[0m\u001b[0m\n\u001b[1;32m    365\u001b[0m         return Predictor.from_archive(\n\u001b[0;32m--> 366\u001b[0;31m             \u001b[0mload_archive\u001b[0m\u001b[0;34m(\u001b[0m\u001b[0marchive_path\u001b[0m\u001b[0;34m,\u001b[0m \u001b[0mcuda_device\u001b[0m\u001b[0;34m=\u001b[0m\u001b[0mcuda_device\u001b[0m\u001b[0;34m,\u001b[0m \u001b[0moverrides\u001b[0m\u001b[0;34m=\u001b[0m\u001b[0moverrides\u001b[0m\u001b[0;34m)\u001b[0m\u001b[0;34m,\u001b[0m\u001b[0;34m\u001b[0m\u001b[0;34m\u001b[0m\u001b[0m\n\u001b[0m\u001b[1;32m    367\u001b[0m             \u001b[0mpredictor_name\u001b[0m\u001b[0;34m,\u001b[0m\u001b[0;34m\u001b[0m\u001b[0;34m\u001b[0m\u001b[0m\n\u001b[1;32m    368\u001b[0m             \u001b[0mdataset_reader_to_load\u001b[0m\u001b[0;34m=\u001b[0m\u001b[0mdataset_reader_to_load\u001b[0m\u001b[0;34m,\u001b[0m\u001b[0;34m\u001b[0m\u001b[0;34m\u001b[0m\u001b[0m\n",
            "\u001b[0;32m/usr/local/lib/python3.7/dist-packages/allennlp/models/archival.py\u001b[0m in \u001b[0;36mload_archive\u001b[0;34m(archive_file, cuda_device, overrides, weights_file)\u001b[0m\n\u001b[1;32m    231\u001b[0m         \u001b[0;31m# Instantiate model and dataset readers. Use a duplicate of the config, as it will get consumed.\u001b[0m\u001b[0;34m\u001b[0m\u001b[0;34m\u001b[0m\u001b[0;34m\u001b[0m\u001b[0m\n\u001b[1;32m    232\u001b[0m         dataset_reader, validation_dataset_reader = _load_dataset_readers(\n\u001b[0;32m--> 233\u001b[0;31m             \u001b[0mconfig\u001b[0m\u001b[0;34m.\u001b[0m\u001b[0mduplicate\u001b[0m\u001b[0;34m(\u001b[0m\u001b[0;34m)\u001b[0m\u001b[0;34m,\u001b[0m \u001b[0mserialization_dir\u001b[0m\u001b[0;34m\u001b[0m\u001b[0;34m\u001b[0m\u001b[0m\n\u001b[0m\u001b[1;32m    234\u001b[0m         )\n\u001b[1;32m    235\u001b[0m         \u001b[0mmodel\u001b[0m \u001b[0;34m=\u001b[0m \u001b[0m_load_model\u001b[0m\u001b[0;34m(\u001b[0m\u001b[0mconfig\u001b[0m\u001b[0;34m.\u001b[0m\u001b[0mduplicate\u001b[0m\u001b[0;34m(\u001b[0m\u001b[0;34m)\u001b[0m\u001b[0;34m,\u001b[0m \u001b[0mweights_path\u001b[0m\u001b[0;34m,\u001b[0m \u001b[0mserialization_dir\u001b[0m\u001b[0;34m,\u001b[0m \u001b[0mcuda_device\u001b[0m\u001b[0;34m)\u001b[0m\u001b[0;34m\u001b[0m\u001b[0;34m\u001b[0m\u001b[0m\n",
            "\u001b[0;32m/usr/local/lib/python3.7/dist-packages/allennlp/models/archival.py\u001b[0m in \u001b[0;36m_load_dataset_readers\u001b[0;34m(config, serialization_dir)\u001b[0m\n\u001b[1;32m    267\u001b[0m \u001b[0;34m\u001b[0m\u001b[0m\n\u001b[1;32m    268\u001b[0m     dataset_reader = DatasetReader.from_params(\n\u001b[0;32m--> 269\u001b[0;31m         \u001b[0mdataset_reader_params\u001b[0m\u001b[0;34m,\u001b[0m \u001b[0mserialization_dir\u001b[0m\u001b[0;34m=\u001b[0m\u001b[0mserialization_dir\u001b[0m\u001b[0;34m\u001b[0m\u001b[0;34m\u001b[0m\u001b[0m\n\u001b[0m\u001b[1;32m    270\u001b[0m     )\n\u001b[1;32m    271\u001b[0m     validation_dataset_reader = DatasetReader.from_params(\n",
            "\u001b[0;32m/usr/local/lib/python3.7/dist-packages/allennlp/common/from_params.py\u001b[0m in \u001b[0;36mfrom_params\u001b[0;34m(cls, params, constructor_to_call, constructor_to_inspect, **extras)\u001b[0m\n\u001b[1;32m    586\u001b[0m                 \u001b[0;34m\"type\"\u001b[0m\u001b[0;34m,\u001b[0m\u001b[0;34m\u001b[0m\u001b[0;34m\u001b[0m\u001b[0m\n\u001b[1;32m    587\u001b[0m                 \u001b[0mchoices\u001b[0m\u001b[0;34m=\u001b[0m\u001b[0mas_registrable\u001b[0m\u001b[0;34m.\u001b[0m\u001b[0mlist_available\u001b[0m\u001b[0;34m(\u001b[0m\u001b[0;34m)\u001b[0m\u001b[0;34m,\u001b[0m\u001b[0;34m\u001b[0m\u001b[0;34m\u001b[0m\u001b[0m\n\u001b[0;32m--> 588\u001b[0;31m                 \u001b[0mdefault_to_first_choice\u001b[0m\u001b[0;34m=\u001b[0m\u001b[0mdefault_to_first_choice\u001b[0m\u001b[0;34m,\u001b[0m\u001b[0;34m\u001b[0m\u001b[0;34m\u001b[0m\u001b[0m\n\u001b[0m\u001b[1;32m    589\u001b[0m             )\n\u001b[1;32m    590\u001b[0m             \u001b[0msubclass\u001b[0m\u001b[0;34m,\u001b[0m \u001b[0mconstructor_name\u001b[0m \u001b[0;34m=\u001b[0m \u001b[0mas_registrable\u001b[0m\u001b[0;34m.\u001b[0m\u001b[0mresolve_class_name\u001b[0m\u001b[0;34m(\u001b[0m\u001b[0mchoice\u001b[0m\u001b[0;34m)\u001b[0m\u001b[0;34m\u001b[0m\u001b[0;34m\u001b[0m\u001b[0m\n",
            "\u001b[0;32m/usr/local/lib/python3.7/dist-packages/allennlp/common/params.py\u001b[0m in \u001b[0;36mpop_choice\u001b[0;34m(self, key, choices, default_to_first_choice, allow_class_names)\u001b[0m\n\u001b[1;32m    322\u001b[0m                 \u001b[0;34m\"\"\"{\"model\": \"my_module.models.MyModel\"} to have it imported automatically.\"\"\"\u001b[0m\u001b[0;34m\u001b[0m\u001b[0;34m\u001b[0m\u001b[0m\n\u001b[1;32m    323\u001b[0m             )\n\u001b[0;32m--> 324\u001b[0;31m             \u001b[0;32mraise\u001b[0m \u001b[0mConfigurationError\u001b[0m\u001b[0;34m(\u001b[0m\u001b[0mmessage\u001b[0m\u001b[0;34m)\u001b[0m\u001b[0;34m\u001b[0m\u001b[0;34m\u001b[0m\u001b[0m\n\u001b[0m\u001b[1;32m    325\u001b[0m         \u001b[0;32mreturn\u001b[0m \u001b[0mvalue\u001b[0m\u001b[0;34m\u001b[0m\u001b[0;34m\u001b[0m\u001b[0m\n\u001b[1;32m    326\u001b[0m \u001b[0;34m\u001b[0m\u001b[0m\n",
            "\u001b[0;31mConfigurationError\u001b[0m: coref not in acceptable choices for dataset_reader.type: ['babi', 'conll2003', 'interleaving', 'multitask', 'multitask_shim', 'sequence_tagging', 'sharded', 'text_classification_json']. You should either use the --include-package flag to make sure the correct module is loaded, or use a fully qualified class name in your config file like {\"model\": \"my_module.models.MyModel\"} to have it imported automatically."
          ]
        }
      ]
    },
    {
      "cell_type": "code",
      "source": [
        "# Lemmatization\n",
        "lemmatizer = WordNetLemmatizer()\n",
        "lemmas = ' '.join([lemmatizer.lemmatize(w) for w in words])\n",
        "\n",
        "print(lemmas)"
      ],
      "metadata": {
        "colab": {
          "base_uri": "https://localhost:8080/"
        },
        "id": "TILdmejGksK2",
        "outputId": "221d04a2-ef0f-4b74-839f-20312d396d66"
      },
      "execution_count": 6,
      "outputs": [
        {
          "output_type": "stream",
          "name": "stdout",
          "text": [
            "Xi Jinping is a Chinese politician who ha served a General Secretary of the Chinese Communist Party ( CCP ) and Chairman of the Central Military Commission ( CMC ) since 2012 , and President of the People 's Republic of China ( PRC ) since 2013 . He ha been the paramount leader of China , the most prominent political leader in the country , since 2012 . The son of Chinese Communist veteran Xi Zhongxun , he wa exiled to rural Yanchuan County a a teenager following his father 's purge during the Cultural Revolutionandlived in a cave in the village of Liangjiahe , where he joined the CCP and worked a the party secretary .\n"
          ]
        }
      ]
    },
    {
      "cell_type": "code",
      "source": [
        "# Parsing\n",
        "# rd = RecursiveDescentParser()"
      ],
      "metadata": {
        "id": "pdQ5XYhkt7TZ"
      },
      "execution_count": 9,
      "outputs": []
    },
    {
      "cell_type": "code",
      "source": [
        ""
      ],
      "metadata": {
        "id": "Refcqbszwk5o"
      },
      "execution_count": null,
      "outputs": []
    }
  ]
}