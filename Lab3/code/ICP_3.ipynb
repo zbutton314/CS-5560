{
  "nbformat": 4,
  "nbformat_minor": 0,
  "metadata": {
    "colab": {
      "name": "ICP_3",
      "provenance": [],
      "include_colab_link": true
    },
    "kernelspec": {
      "name": "python3",
      "display_name": "Python 3"
    },
    "language_info": {
      "name": "python"
    }
  },
  "cells": [
    {
      "cell_type": "markdown",
      "metadata": {
        "id": "view-in-github",
        "colab_type": "text"
      },
      "source": [
        "<a href=\"https://colab.research.google.com/github/zbutton314/CS-5560/blob/main/Lab3/code/ICP_3.ipynb\" target=\"_parent\"><img src=\"https://colab.research.google.com/assets/colab-badge.svg\" alt=\"Open In Colab\"/></a>"
      ]
    },
    {
      "cell_type": "code",
      "execution_count": null,
      "metadata": {
        "id": "8KLLuwd892J0"
      },
      "outputs": [],
      "source": [
        "import pandas as pd\n",
        "import nltk\n",
        "from nltk.corpus import wordnet as wn\n",
        "from nltk.stem.wordnet import WordNetLemmatizer\n",
        "from nltk.tokenize import sent_tokenize\n",
        "from nltk.tokenize import word_tokenize\n",
        "import spacy\n",
        "from spacy.tokens import Span\n",
        "#references include: \n",
        "#www.analyticsvidhya.com/blog/2019/09/introduction-information-extraction-python-spacy/\n",
        "#https://machinelearningknowledge.ai/tutorial-on-spacy-part-of-speech-pos-tagging/\n"
      ]
    },
    {
      "cell_type": "code",
      "source": [
        "from google.colab import drive\n",
        "drive.mount('/content/drive')"
      ],
      "metadata": {
        "colab": {
          "base_uri": "https://localhost:8080/"
        },
        "id": "PxMTeSDT97yf",
        "outputId": "95087ebb-fcab-4ec2-92a3-e0e1e547b62d"
      },
      "execution_count": null,
      "outputs": [
        {
          "output_type": "stream",
          "name": "stdout",
          "text": [
            "Drive already mounted at /content/drive; to attempt to forcibly remount, call drive.mount(\"/content/drive\", force_remount=True).\n"
          ]
        }
      ]
    },
    {
      "cell_type": "code",
      "source": [
        "text = \"Scorpions are predatory arachnids.\"\n",
        "nlp = spacy.load(\"en\")"
      ],
      "metadata": {
        "id": "f7PkI0sN9_Nt"
      },
      "execution_count": null,
      "outputs": []
    },
    {
      "cell_type": "code",
      "source": [
        "def get_entities(sent):\n",
        "  ## chunk 1 \n",
        "  ent1 = \"\"\n",
        "  ent2 = \"\"\n",
        "  rel = \"\"\n",
        "\n",
        "  modifier = \"\"\n",
        "\n",
        "  #############################################################\n",
        "  ## chunk 2\n",
        "  for tok in nlp(sent):\n",
        "    # if token is a punctuation mark then move on to the next token\n",
        "    if tok.dep_ != \"punct\":\n",
        "      if tok.dep_.endswith(\"mod\") == True or tok.dep_ == \"attr\":\n",
        "        ent2 = tok.text\n",
        "      elif tok.dep_.endswith(\"subj\") == True and tok.pos_ == \"NOUN\":\n",
        "        ent1 = modifier + \" \" + tok.text\n",
        "        modifier = \"\"\n",
        "      elif tok.pos_ == 'ADJ' or tok.pos_ == 'AUX':\n",
        "            rel = tok.text    \n",
        "            \n",
        "      else:\n",
        "        pass  \n",
        "  #############################################################\n",
        "\n",
        "  return [ent1, ent2, rel]"
      ],
      "metadata": {
        "id": "_u7I6Qw9x5Wb"
      },
      "execution_count": null,
      "outputs": []
    },
    {
      "cell_type": "code",
      "source": [
        "from nltk.tokenize import sent_tokenize\n",
        "\n",
        "obj_Array = []\n",
        "subj_Array = []\n",
        "rel_Array = []\n",
        "\n",
        "#rel_Array = [get_relation(i) for i in sent_tokenize(text)]\n",
        "for j in sent_tokenize(text):\n",
        "  ent_temp = get_entities(j)\n",
        "  obj_Array.append(ent_temp[0])\n",
        "  subj_Array.append(ent_temp[1])\n",
        "  rel_Array.append(ent_temp[2])\n",
        "\n",
        "triples = []\n",
        "for x in obj_Array:\n",
        "  l = obj_Array.index(x)\n",
        "  triples.append([x, rel_Array[l], subj_Array[l]])\n",
        "print(triples)"
      ],
      "metadata": {
        "colab": {
          "base_uri": "https://localhost:8080/"
        },
        "id": "FXx_4Omd-rR_",
        "outputId": "e62ce408-6f58-40d0-c4cd-6537d7c08312"
      },
      "execution_count": null,
      "outputs": [
        {
          "output_type": "stream",
          "name": "stdout",
          "text": [
            "[[' Scorpions', 'are', 'arachnids']]\n"
          ]
        }
      ]
    },
    {
      "cell_type": "code",
      "source": [
        "from itertools import chain\n",
        " \n",
        "for i,j in enumerate(wn.synsets('order')):\n",
        "  if i < 5:\n",
        "    nltkID = j.name()\n",
        "    print(\"Meaning\",i, \"NLTK ID:\", nltkID)\n",
        "    print(\"Hypernyms:\", \", \".join(list(chain(*[l.lemma_names() for l in j.hypernyms()]))))\n",
        "    print( \"Hyponyms:\", \", \".join(list(chain(*[l.lemma_names() for l in j.hyponyms()]))))\n",
        "    print(\"Meronyms:\", \", \".join(list(chain(*[l.lemma_names() for l in j.part_meronyms()]))))\n",
        "    print( \"Holonyms:\", \", \".join(list(chain(*[l.lemma_names() for l in j.part_holonyms()])))) \n",
        "    print( \"Entailments:\", \", \".join(list(chain(*[l.lemma_names() for l in j.entailments()]))))\n",
        "    print(\"\\n\")"
      ],
      "metadata": {
        "colab": {
          "base_uri": "https://localhost:8080/"
        },
        "id": "9fIBeIRo-z4r",
        "outputId": "e672557b-4abe-48c2-eb90-aa8c1760d794"
      },
      "execution_count": null,
      "outputs": [
        {
          "output_type": "stream",
          "name": "stdout",
          "text": [
            "Meaning 0 NLTK ID: order.n.01\n",
            "Hypernyms: command, bid, bidding, dictation\n",
            "Hyponyms: marching_orders, summons, word\n",
            "Meronyms: \n",
            "Holonyms: \n",
            "Entailments: \n",
            "\n",
            "\n",
            "Meaning 1 NLTK ID: order.n.02\n",
            "Hypernyms: magnitude\n",
            "Hyponyms: \n",
            "Meronyms: \n",
            "Holonyms: \n",
            "Entailments: \n",
            "\n",
            "\n",
            "Meaning 2 NLTK ID: order.n.03\n",
            "Hypernyms: state\n",
            "Hyponyms: civil_order, polity, harmony, concord, concordance, peace, rule_of_law, stability, tranquillity, tranquility, quiet\n",
            "Meronyms: \n",
            "Holonyms: \n",
            "Entailments: \n",
            "\n",
            "\n",
            "Meaning 3 NLTK ID: ordering.n.01\n",
            "Hypernyms: arrangement\n",
            "Hyponyms: bacteria_order, genetic_code, genome, series, word_order\n",
            "Meronyms: \n",
            "Holonyms: \n",
            "Entailments: \n",
            "\n",
            "\n",
            "Meaning 4 NLTK ID: orderliness.n.02\n",
            "Hypernyms: condition, status\n",
            "Hyponyms: kilter, kelter, spit_and_polish, tidiness\n",
            "Meronyms: \n",
            "Holonyms: \n",
            "Entailments: \n",
            "\n",
            "\n"
          ]
        }
      ]
    },
    {
      "cell_type": "code",
      "source": [
        " "
      ],
      "metadata": {
        "id": "_USEf3PWAVII"
      },
      "execution_count": null,
      "outputs": []
    },
    {
      "cell_type": "code",
      "source": [
        "\n"
      ],
      "metadata": {
        "id": "UJ50OjXfCITt"
      },
      "execution_count": null,
      "outputs": []
    },
    {
      "cell_type": "code",
      "source": [
        ""
      ],
      "metadata": {
        "id": "joIUoA2nGH31"
      },
      "execution_count": null,
      "outputs": []
    },
    {
      "cell_type": "code",
      "source": [
        ""
      ],
      "metadata": {
        "id": "zEnpI8kwHes-"
      },
      "execution_count": null,
      "outputs": []
    },
    {
      "cell_type": "code",
      "source": [
        ""
      ],
      "metadata": {
        "id": "RobR_v9fIW7k"
      },
      "execution_count": null,
      "outputs": []
    }
  ]
}